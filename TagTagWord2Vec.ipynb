{
 "cells": [
  {
   "cell_type": "markdown",
   "metadata": {},
   "source": [
    "# Exploring Metadata Keyword Relationships with word2vec\n",
    "\n",
    "This notebook demonstrates using a pretrained word2vec model to explore how keywords are related to other words and other keywords. \n",
    "\n",
    "Examples of how to use pretrained models and code where used from https://github.com/3Top/word2vec-api\n"
   ]
  },
  {
   "cell_type": "markdown",
   "metadata": {},
   "source": [
    "This notebook runs on the docker jupyter/datascience-notebook container with gensim additionally installed as below "
   ]
  },
  {
   "cell_type": "code",
   "execution_count": 54,
   "metadata": {
    "collapsed": false
   },
   "outputs": [],
   "source": [
    "%matplotlib notebook"
   ]
  },
  {
   "cell_type": "code",
   "execution_count": 50,
   "metadata": {
    "collapsed": false
   },
   "outputs": [
    {
     "name": "stdout",
     "output_type": "stream",
     "text": [
      "Requirement already satisfied (use --upgrade to upgrade): gensim in /opt/conda/lib/python3.5/site-packages\n",
      "Requirement already satisfied (use --upgrade to upgrade): six>=1.5.0 in /opt/conda/lib/python3.5/site-packages (from gensim)\n",
      "Requirement already satisfied (use --upgrade to upgrade): numpy>=1.3 in /opt/conda/lib/python3.5/site-packages (from gensim)\n",
      "Requirement already satisfied (use --upgrade to upgrade): smart-open>=1.2.1 in /opt/conda/lib/python3.5/site-packages (from gensim)\n",
      "Requirement already satisfied (use --upgrade to upgrade): scipy>=0.7.0 in /opt/conda/lib/python3.5/site-packages (from gensim)\n",
      "Requirement already satisfied (use --upgrade to upgrade): bz2file in /opt/conda/lib/python3.5/site-packages (from smart-open>=1.2.1->gensim)\n",
      "Requirement already satisfied (use --upgrade to upgrade): requests in /opt/conda/lib/python3.5/site-packages (from smart-open>=1.2.1->gensim)\n",
      "Requirement already satisfied (use --upgrade to upgrade): boto>=2.32 in /opt/conda/lib/python3.5/site-packages (from smart-open>=1.2.1->gensim)\n"
     ]
    },
    {
     "name": "stderr",
     "output_type": "stream",
     "text": [
      "You are using pip version 8.1.2, however version 9.0.1 is available.\n",
      "You should consider upgrading via the 'pip install --upgrade pip' command.\n"
     ]
    }
   ],
   "source": [
    "%%bash\n",
    "pip install gensim"
   ]
  },
  {
   "cell_type": "code",
   "execution_count": 5,
   "metadata": {
    "collapsed": true
   },
   "outputs": [],
   "source": [
    "from gensim.models.word2vec import Word2Vec as w\n",
    "import gensim.models\n",
    "from gensim import utils, matutils"
   ]
  },
  {
   "cell_type": "markdown",
   "metadata": {},
   "source": [
    "## Loading a pretrained word2vec model\n",
    "\n",
    "This model has been sourced http://nlp.stanford.edu/data/glove.6B.zip to use this you'll need to download it as it's too big to package alongside this notebook.\n",
    "\n",
    "To load it sucessfully it has been modified to add a '400000 300' (presumably specifying the number of words and vector size) to a new line above the rest of the data"
   ]
  },
  {
   "cell_type": "code",
   "execution_count": 6,
   "metadata": {
    "collapsed": false
   },
   "outputs": [
    {
     "name": "stdout",
     "output_type": "stream",
     "text": [
      "400000 300 \n",
      "the 0.04656 0.21318 -0.0074364 -0.45854 -0.035639 0.23643 -0.28836 0.21521 -0.13486 -1.6413 -0.26091 0.032434 0.056621 -0.043296 -0.021672 0.22476 -0.075129 -0.067018 -0.14247 0.038825 -0.18951 0.29977 0.39305 0.17887 -0.17343 -0.21178 0.23617 -0.063681 -0.42318 -0.11661 0.093754 0.17296 -0.33073 0.49112 -0.68995 -0.092462 0.24742 -0.17991 0.097908 0.083118 0.15299 -0.27276 -0.038934 0.54453 0.53737 0.29105 -0.0073514 0.04788 -0.4076 -0.026759 0.17919 0.010977 -0.10963 -0.26395 0.07399 0.26236 -0.1508 0.34623 0.25758 0.11971 -0.037135 -0.071593 0.43898 -0.040764 0.016425 -0.4464 0.17197 0.046246 0.058639 0.041499 0.53948 0.52495 0.11361 -0.048315 -0.36385 0.18704 0.092761 -0.11129 -0.42085 0.13992 -0.39338 -0.067945 0.12188 0.16707 0.075169 -0.015529 -0.19499 0.19638 0.053194 0.2517 -0.34845 -0.10638 -0.34692 -0.19024 -0.2004 0.12154 -0.29208 0.023353 -0.11618 -0.35768 0.062304 0.35884 0.02906 0.0073005 0.0049482 -0.15048 -0.12313 0.19337 0.12173 0.44503 0.25147 0.10781 -0.17716 0.038691 0.08153 0.14667 0.063666 0.061332 -0.075569 -0.37724 0.01585 -0.30342 0.28374 -0.042013 -0.040715 -0.15269 0.07498 0.15577 0.10433 0.31393 0.19309 0.19429 0.15185 -0.10192 -0.018785 0.20791 0.13366 0.19038 -0.25558 0.304 -0.01896 0.20147 -0.4211 -0.0075156 -0.27977 -0.19314 0.046204 0.19971 -0.30207 0.25735 0.68107 -0.19409 0.23984 0.22493 0.65224 -0.13561 -0.17383 -0.048209 -0.1186 0.0021588 -0.019525 0.11948 0.19346 -0.4082 -0.082966 0.16626 -0.10601 0.35861 0.16922 0.07259 -0.24803 -0.10024 -0.52491 -0.17745 -0.36647 0.2618 -0.012077 0.08319 -0.21528 0.41045 0.29136 0.30869 0.078864 0.32207 -0.041023 -0.1097 -0.092041 -0.12339 -0.16416 0.35382 -0.082774 0.33171 -0.24738 -0.048928 0.15746 0.18988 -0.026642 0.063315 -0.010673 0.34089 1.4106 0.13417 0.28191 -0.2594 0.055267 -0.052425 -0.25789 0.019127 -0.022084 0.32113 0.068818 0.51207 0.16478 -0.20194 0.29232 0.098575 0.013145 -0.10652 0.1351 -0.045332 0.20697 -0.48425 -0.44706 0.0033305 0.0029264 -0.10975 -0.23325 0.22442 -0.10503 0.12339 0.10978 0.048994 -0.25157 0.40319 0.35318 0.18651 -0.023622 -0.12734 0.11475 0.27359 -0.21866 0.015794 0.81754 -0.023792 -0.85469 -0.16203 0.18076 0.028014 -0.1434 0.0013139 -0.091735 -0.089704 0.11105 -0.16703 0.068377 -0.087388 -0.039789 0.014184 0.21187 0.28579 -0.28797 -0.058996 -0.032436 -0.0047009 -0.17052 -0.034741 -0.11489 0.075093 0.099526 0.048183 -0.073775 -0.41817 0.0041268 0.44414 -0.16062 0.14294 -2.2628 -0.027347 0.81311 0.77417 -0.25639 -0.11576 -0.11982 -0.21363 0.028429 0.27261 0.031026 0.096782 0.0067769 0.14082 -0.013064 -0.29686 -0.079913 0.195 0.031549 0.28506 -0.087461 0.0090611 -0.20989 0.053913\n"
     ]
    }
   ],
   "source": [
    "%%bash \n",
    "head -2 ./glove.6B.300d.txt"
   ]
  },
  {
   "cell_type": "code",
   "execution_count": 7,
   "metadata": {
    "collapsed": false
   },
   "outputs": [],
   "source": [
    "model = gensim.models.KeyedVectors.load_word2vec_format('./glove.6B.300d.txt', binary=False)"
   ]
  },
  {
   "cell_type": "markdown",
   "metadata": {},
   "source": [
    "## Keywords describing datasets\n",
    "\n",
    "A keywords.json file was produced from backend data harvested as part of populating the knowledge network http://kn.csiro.au"
   ]
  },
  {
   "cell_type": "code",
   "execution_count": 10,
   "metadata": {
    "collapsed": true
   },
   "outputs": [],
   "source": [
    "import json"
   ]
  },
  {
   "cell_type": "code",
   "execution_count": 11,
   "metadata": {
    "collapsed": false
   },
   "outputs": [],
   "source": [
    "with open('./keywords.json') as keywords_json_file:\n",
    "    raw_keywords = json.load(keywords_json_file)"
   ]
  },
  {
   "cell_type": "code",
   "execution_count": 12,
   "metadata": {
    "collapsed": false
   },
   "outputs": [],
   "source": [
    "keywords_dict = [keyword for keyword in raw_keywords if 'keywords' in keyword.keys() and keyword['keywords'] != None]"
   ]
  },
  {
   "cell_type": "code",
   "execution_count": 13,
   "metadata": {
    "collapsed": false,
    "scrolled": false
   },
   "outputs": [
    {
     "name": "stdout",
     "output_type": "stream",
     "text": [
      "{'keywords': ['entomology', 'insects', 'spiders', 'fauna'], '_id': '59159e9b3dd97b0a4c165378'}\n",
      "{'keywords': ['plants'], '_id': '59159e9b3dd97b0a4c165379'}\n",
      "{'keywords': ['microbial'], '_id': '59159e9b3dd97b0a4c16537b'}\n",
      "{'keywords': ['plants'], '_id': '59159e9b3dd97b0a4c16537e'}\n",
      "{'keywords': ['herbarium', 'herbaria', 'angiosperms', 'dicots', 'monocots', 'pteridophytes', 'mosses', 'liverworts', 'lichens', 'fungi', 'algae', 'plants'], '_id': '59159e9b3dd97b0a4c16537f'}\n",
      "{'keywords': ['microbial'], '_id': '59159e9b3dd97b0a4c165380'}\n",
      "{'keywords': ['microbial'], '_id': '59159e9b3dd97b0a4c165381'}\n",
      "{'keywords': ['microbes'], '_id': '59159e9b3dd97b0a4c165382'}\n",
      "{'keywords': ['arachnids', 'spiders', 'myriapods', 'centipedes', 'millipedes', 'onychophorans', '\"velvet', 'worms\"', 'tardigrades', '\"water', 'bears\"', 'fauna'], '_id': '59159e9b3dd97b0a4c165383'}\n",
      "{'keywords': ['entomology', 'insects', 'hexapoda'], '_id': '59159e9b3dd97b0a4c165384'}\n"
     ]
    }
   ],
   "source": [
    "for anItem in keywords_dict[0:10]:\n",
    "    print(anItem)"
   ]
  },
  {
   "cell_type": "markdown",
   "metadata": {},
   "source": [
    "## Keyword cleaning and considerations\n",
    "\n",
    "Keywords are flattened to a unique list. However there are a lot of keywords that aren't single words. These aren't handled currently. "
   ]
  },
  {
   "cell_type": "code",
   "execution_count": 14,
   "metadata": {
    "collapsed": false
   },
   "outputs": [],
   "source": [
    "flat_keywords = [keyword for keyword_item in keywords_dict for keyword in keyword_item['keywords']]"
   ]
  },
  {
   "cell_type": "code",
   "execution_count": 15,
   "metadata": {
    "collapsed": false
   },
   "outputs": [],
   "source": [
    "unique_keywords = list(set(flat_keywords))"
   ]
  },
  {
   "cell_type": "code",
   "execution_count": 16,
   "metadata": {
    "collapsed": false
   },
   "outputs": [
    {
     "data": {
      "text/plain": [
       "1912"
      ]
     },
     "execution_count": 16,
     "metadata": {},
     "output_type": "execute_result"
    }
   ],
   "source": [
    "len(unique_keywords)"
   ]
  },
  {
   "cell_type": "markdown",
   "metadata": {},
   "source": [
    "## Finding similar words\n",
    "\n",
    "Here we find the top 10 words similar to a keyword. Note that this isn't finding the most similar other keywords rather it is finding words from the original word to vec corpus (in this case wikipedia + gigawords), only a small number of which are exisiting keywords. Also note that not all keywords are in the corpus if a keyword isn't present an error is thrown."
   ]
  },
  {
   "cell_type": "code",
   "execution_count": 17,
   "metadata": {
    "collapsed": false
   },
   "outputs": [
    {
     "name": "stdout",
     "output_type": "stream",
     "text": [
      "scale up\n",
      "Word not in corpus\n",
      "\n",
      "geology\n",
      "[('mineralogy', 0.8367956280708313), ('geography', 0.8337733149528503), ('zoology', 0.8233452439308167), ('archaeology', 0.8034197688102722), ('paleontology', 0.8027987480163574), ('botany', 0.8016353845596313), ('hydrology', 0.7939602136611938), ('geological', 0.791845977306366), ('anthropology', 0.7906234264373779), ('astronomy', 0.7892726063728333)]\n",
      "\n",
      "sensor network\n",
      "Word not in corpus\n",
      "\n",
      "ferret\n",
      "[('ferrets', 0.7464505434036255), ('black-footed', 0.7138614058494568), ('legging', 0.7058811783790588), ('ferreting', 0.6807850003242493), ('rhino', 0.6746401190757751), ('rummage', 0.6691969037055969), ('unicorn', 0.6686753630638123), ('retriever', 0.6658296585083008), ('thieving', 0.6648372411727905), ('canine', 0.6626259088516235)]\n",
      "\n",
      "Queensland plateau\n",
      "Word not in corpus\n",
      "\n",
      "nanodiamond, bucky-diamond, nanoparticle, DFTB\n",
      "Word not in corpus\n",
      "\n",
      "xml\n",
      "[('html', 0.8442864418029785), ('metadata', 0.8166780471801758), ('schema', 0.8088633418083191), ('json', 0.80326908826828), ('xml-based', 0.7943450808525085), ('xhtml', 0.7857933640480042), ('sgml', 0.7848222851753235), ('javascript', 0.7837099432945251), ('extensible', 0.7819677591323853), ('sql', 0.7789792418479919)]\n",
      "\n",
      "18S rDNA\n",
      "Word not in corpus\n",
      "\n",
      "SRES scenarios\n",
      "Word not in corpus\n",
      "\n"
     ]
    }
   ],
   "source": [
    "for keyword in unique_keywords[1:10]:\n",
    "    print(keyword)\n",
    "    try:\n",
    "        print(str(model.most_similar_cosmul(positive=keyword,topn=10)) + \"\\n\")\n",
    "    except:\n",
    "        print(\"Word not in corpus\" + \"\\n\")\n",
    "        continue"
   ]
  },
  {
   "cell_type": "markdown",
   "metadata": {},
   "source": [
    "## Finding only similar existing keywords\n",
    "\n",
    "In some use cases we might want to only want to find existing keywords similar to other keywords. This might help a user select a new keyword based on other similar keywords to an already selected keyword. The best way to do this might be to reset the word2vec model to use the keywords as a corpus and then \"copy\" the weights from an existing model (because we can't easily train specifically on the small keyword corpus). An alternative is to \"brute force\" this by build ordered dictionaries so that each keyword is associated with an list of all other keywords ordered by similarity. Not implemented yet but might begin like the following"
   ]
  },
  {
   "cell_type": "code",
   "execution_count": 74,
   "metadata": {
    "collapsed": false
   },
   "outputs": [
    {
     "name": "stdout",
     "output_type": "stream",
     "text": [
      "sea\n",
      "\n",
      "geology: 0.139573634562\n",
      "ferret: -0.0238875666946\n",
      "xml: -0.0957878384006\n",
      "estuaries: 0.245522246545\n",
      "morphology: 0.0232775121389\n",
      "sucrose: -0.0344297328679\n",
      "boreholes: 0.067932360096\n",
      "paramyxovirus: -0.023766387888\n",
      "plant: 0.217182461065\n",
      "scheduling: -0.0496188408048\n"
     ]
    }
   ],
   "source": [
    "print('sea' + '\\n')\n",
    "for keyword in unique_keywords[1:30]:\n",
    "    try:\n",
    "        print(keyword + ': ' + str(model.similarity(keyword, 'sea')))\n",
    "    except:\n",
    "        pass"
   ]
  },
  {
   "cell_type": "markdown",
   "metadata": {},
   "source": [
    "## What else might we be able to do with word2vec vectors and keywords\n",
    "\n",
    "One thing that might be possible is to look at how closely related a particular set of keywords attributed to a dataset  actually are. We can compare word vector distance ourselves and so can calculate average distance of keywords with each other. "
   ]
  },
  {
   "cell_type": "code",
   "execution_count": 24,
   "metadata": {
    "collapsed": false
   },
   "outputs": [
    {
     "data": {
      "text/plain": [
       "array([ 0.058762  ,  0.13462999, -0.11947   ,  0.14343999, -0.24157999,\n",
       "       -0.14150999,  0.024601  , -0.58157003,  0.46832001, -0.73117   ,\n",
       "        0.15012001, -0.07883   ,  0.35431999,  0.37818   ,  0.58601999,\n",
       "       -0.44843   ,  0.31343001,  0.20029999,  0.41152999,  0.57174999,\n",
       "       -0.29811001,  0.51723999, -0.2599    ,  0.64245999, -0.72254002,\n",
       "        0.13867   ,  0.31033   ,  0.41404   , -0.29218   , -0.41016001,\n",
       "        1.24370003,  0.18877999, -0.32401001,  0.27671999,  0.64732999,\n",
       "       -0.070629  ,  0.065632  ,  0.046316  ,  0.13738   ,  0.059934  ,\n",
       "        0.13399   , -0.30000001,  0.72415   ,  0.037312  ,  0.13739   ,\n",
       "       -0.3053    ,  0.027806  ,  0.29080999, -0.31806999, -0.45738   ,\n",
       "       -0.055785  , -0.18021999, -0.30146   ,  0.35597   ,  0.26813999,\n",
       "        0.71649998,  0.46777001, -0.58230001, -0.096738  , -0.13798   ,\n",
       "        0.10548   ,  1.03699994,  0.56551999,  0.27704   , -0.40588999,\n",
       "       -0.20735   ,  0.17189001, -0.11872   , -0.48289999, -0.35611999,\n",
       "       -0.57176   ,  0.25828999,  0.15028   ,  0.17602   , -0.29819   ,\n",
       "       -0.020341  , -0.032322  ,  0.017631  ,  0.16112   , -0.078358  ,\n",
       "       -0.012829  , -0.70976001, -0.38031   , -0.25165999,  0.14246   ,\n",
       "        0.2463    ,  0.45750999, -0.097252  , -0.29225001,  0.23171   ,\n",
       "        0.23608001,  0.40494001,  0.23800001, -0.14113   , -0.44376001,\n",
       "        0.11064   ,  0.45218   , -0.081282  ,  0.02551   , -0.21673   ,\n",
       "        0.057652  ,  0.26710001, -0.54117   ,  0.74545002, -0.39335001,\n",
       "        0.036874  , -0.11015   ,  0.72580999,  0.24462999, -0.096731  ,\n",
       "        0.35854   , -0.76055998,  0.02441   , -0.49496999,  0.17302001,\n",
       "       -0.026099  , -0.059545  ,  0.034985  ,  0.99541003,  0.95498002,\n",
       "        0.11053   ,  0.52291   , -0.87866998, -0.15327001, -0.57906002,\n",
       "        0.55949003, -0.014628  , -0.35852   ,  0.12461   ,  0.39107999,\n",
       "       -0.22724   ,  0.10737   ,  0.33166   , -0.89630002, -0.04449   ,\n",
       "       -0.013185  , -0.033967  ,  0.60298997, -0.67711997,  0.53637999,\n",
       "        0.079904  , -0.18637   ,  0.0017569 , -0.79303998,  1.03129995,\n",
       "       -0.041732  ,  0.070898  ,  0.80629998,  0.23473001, -0.046194  ,\n",
       "        0.30489001, -0.15139   ,  0.055184  , -0.026424  ,  0.23010001,\n",
       "       -0.068724  , -0.12213   , -0.10017   ,  0.29605001, -0.26402   ,\n",
       "       -0.65613002, -0.077726  ,  0.92316997,  0.27770999,  0.37004   ,\n",
       "       -0.28116   ,  0.36423999,  0.074263  ,  0.1886    , -0.074889  ,\n",
       "       -0.20979001, -0.26411   ,  0.055505  , -0.44110999,  0.036991  ,\n",
       "        0.61664999,  0.12158   , -0.44071999, -0.49151   , -0.81733   ,\n",
       "        0.16128001, -0.14545999, -0.13423   , -0.17257001,  0.43720001,\n",
       "        0.26912001,  0.24134   ,  0.52069998,  0.1859    ,  0.041408  ,\n",
       "       -0.50234002,  0.34558001,  0.29611999, -0.36677   ,  0.54404998,\n",
       "        0.018785  ,  0.20796999, -0.32938999, -0.065995  , -0.073112  ,\n",
       "       -0.19575   ,  0.53946   , -1.04299998, -0.12871   ,  0.37156999,\n",
       "       -0.30335   ,  0.073696  , -0.16237   ,  0.48072001, -0.11749   ,\n",
       "        0.090781  , -0.30296999,  0.58367997, -0.72579998,  0.01129   ,\n",
       "        0.30543   , -0.82656002,  0.097103  ,  0.63898998, -0.25246   ,\n",
       "       -0.28209001,  0.15692   , -0.23379   ,  0.32672   , -0.061576  ,\n",
       "       -0.097232  , -0.69950998, -0.1523    , -0.31608   ,  0.48122999,\n",
       "        0.28525999,  0.23077001, -0.19812   , -0.40965   , -0.68708003,\n",
       "       -0.45881999,  0.047657  , -0.40663001,  0.058414  ,  0.23682   ,\n",
       "       -0.27096999,  0.41980001,  0.2692    , -0.10827   , -0.77683997,\n",
       "       -0.21211   , -0.91298002, -0.27348   , -0.59464997,  0.32161   ,\n",
       "        0.25571001, -0.12687001,  0.36008999, -0.88309997,  0.090434  ,\n",
       "        0.78886002, -0.33546001, -0.09411   , -0.80132002, -0.18453   ,\n",
       "       -0.68336999, -0.39289999,  0.16546001,  0.33702999,  0.56291002,\n",
       "       -0.17263   , -0.20968001,  0.63282001,  0.53446001,  0.40294001,\n",
       "       -0.79914999, -0.22281   , -0.27627   ,  0.45265999,  0.13007   ,\n",
       "       -0.022363  ,  0.056343  , -0.045134  ,  0.75340998, -0.14798   ,\n",
       "       -0.27684   ,  0.17618001,  0.22687   , -0.27581999,  0.67433   ,\n",
       "       -0.40008   , -0.43821001,  0.29067999,  0.87244999, -0.45626   ,\n",
       "        0.073125  ,  0.063029  ,  0.06834   , -0.025576  ,  0.46063   ,\n",
       "        0.42098999,  0.48054999,  0.10909   , -0.088663  ,  0.72178   ], dtype=float32)"
      ]
     },
     "execution_count": 24,
     "metadata": {},
     "output_type": "execute_result"
    }
   ],
   "source": [
    "model.word_vec(unique_keywords[2])"
   ]
  },
  {
   "cell_type": "code",
   "execution_count": 25,
   "metadata": {
    "collapsed": false
   },
   "outputs": [
    {
     "name": "stderr",
     "output_type": "stream",
     "text": [
      "/opt/conda/lib/python3.5/site-packages/ipykernel/__main__.py:31: FutureWarning: comparison to `None` will result in an elementwise object comparison in the future.\n"
     ]
    },
    {
     "name": "stdout",
     "output_type": "stream",
     "text": [
      "(9.4812989864709234, [{'keywords': ['soil', 'agriculture', 'crops', 'pastures', 'carbon', 'sequestration', 'baseline', 'stocks', 'fractions', 'nitrogen', 'carbonate', 'particulate', 'humus', 'resistant', 'charcoal'], '_id': '5915a6be3dd97b0a4c19fcfa'}])\n",
      "\n",
      "(8.8938780725002289, [{'keywords': ['invertebrates', 'insects', 'biosecurity', 'taxonomy', 'arthropods', 'systematic'], '_id': '5915a6be3dd97b0a4c19fd45'}])\n",
      "\n",
      "(8.8470295563988071, [{'keywords': ['temperature', 'salinity', 'depth', 'fluorescence', 'oxygen', 'PAR', 'ocean', 'phosphate', 'nitrate', 'ammonium', 'silicate', 'Australia, Western Australia coast', 'East Indian Ocean', 'Indian Ocean'], '_id': '5915a6be3dd97b0a4c19fd04'}])\n",
      "\n",
      "(8.8263469372155523, [{'keywords': ['malacology', 'molluscs', 'mollusc', 'chitons', 'clams', 'mussels', 'snails', 'nudibranchs', 'sea', 'slugs', 'tusk', 'shells', 'octopus', 'squid', 'fauna'], '_id': '59159e9b3dd97b0a4c165387'}])\n",
      "\n",
      "(8.7827231287956238, [{'keywords': ['permanent plot', 'Wet Tropics', 'fire', 'soil', 'rainforest', 'cyclone', 'mortality', 'recruitment', 'growth rate'], '_id': '5915a6be3dd97b0a4c19fcc8'}])\n",
      "\n",
      "(8.776972667030666, [{'keywords': ['taxonomy', 'systematic', 'evolution', 'phylogeny', 'nomenclature', 'biogeography', 'phylogeography', 'herbarium', 'tropical', 'tropics', 'identification keys'], '_id': '5915a6be3dd97b0a4c19fd3f'}])\n",
      "\n",
      "(8.6312599832361396, [{'keywords': ['Tasmania', 'plant', 'trait', 'functional', 'species', 'leaf', 'seed', 'height'], '_id': '5915a6bd3dd97b0a4c19f922'}])\n",
      "\n",
      "(8.5870464262755029, [{'keywords': ['pollen', 'anther', 'pollination', 'almond', 'prunus', 'honeybee', 'orchard', 'nuts', 'fruit', 'flower'], '_id': '5915a6bd3dd97b0a4c19f87d'}])\n",
      "\n",
      "(8.5695710895069421, [{'keywords': ['parasites', 'parasitology', 'Acanthocephala', 'thorny-headed worms', 'Acari', 'ticks', 'mites', 'Anoplura', 'sucking lice', 'bacteria', 'Cestoda', 'tapeworms', 'Digenea', 'trematodes', 'Insecta', 'insects', 'Monogenea', 'trematodes', 'Hippoboscida', 'keds', 'Mallophaga', 'lice', 'Nematoda', 'roundworms', 'Pentastomida', 'tongue worms', 'Protozoa', 'Siphonaptera', 'fleas', 'collection', 'birds', 'reptiles', 'amphibians', 'mammals', 'fauna', 'wildlife', 'systematics', 'phylogenetics', 'taxonomy', 'biogeography', 'pathology', 'phylogeography'], '_id': '5915a6be3dd97b0a4c19fd35'}])\n",
      "\n",
      "(8.4742144968198687, [{'keywords': ['terrestrial vertebrate', 'birds', 'mammals', 'eggs', 'amphibians', 'reptiles', 'fauna', 'calls', 'wildlife', 'population genetics', 'biogeography', 'systematics', 'taxonomy', 'phylogenetics', 'genomics', 'phylogeography', 'evolutionary genetics'], '_id': '5915a6be3dd97b0a4c19fd43'}])\n",
      "\n"
     ]
    }
   ],
   "source": [
    "import numpy, itertools, collections\n",
    "\n",
    "average_keyword_dist_record = {}\n",
    "\n",
    "def get_word_vec(word, word_vec):\n",
    "    a_vec = None\n",
    "    if word in word_vec.keys():\n",
    "        a_vec = word_vec[word]\n",
    "    else:\n",
    "        try:\n",
    "            a_vec = model.word_vec(word)\n",
    "        except:\n",
    "            a_vec = None\n",
    "        word_vec[word] = a_vec\n",
    "    return a_vec\n",
    "\n",
    "for record in keywords_dict:    \n",
    "    metadata_record_keywords = record['keywords']\n",
    "    total_distance = 0\n",
    "    count = 1\n",
    "    word_vec = {}\n",
    "    sets = [frozenset(pair) for pair in itertools.product(metadata_record_keywords, metadata_record_keywords)]\n",
    "    unique_pairs = set(sets)\n",
    "    for pair in unique_pairs:\n",
    "        pair = list(pair)\n",
    "        if len(pair) < 2:\n",
    "            continue\n",
    "        else:\n",
    "            a_vec = get_word_vec(pair[0], word_vec)\n",
    "            b_vec = get_word_vec(pair[1], word_vec)\n",
    "            if a_vec != None and b_vec != None:\n",
    "                distance = numpy.linalg.norm(a_vec-b_vec)\n",
    "            else:\n",
    "                continue\n",
    "            count += 1\n",
    "            total_distance += distance\n",
    "    average_distance = total_distance / count\n",
    "    if average_distance in average_keyword_dist_record.keys():\n",
    "        average_keyword_dist_record[average_distance].append(record)\n",
    "    else:\n",
    "        average_keyword_dist_record[average_distance] = [record]\n",
    "\n",
    "# first 10 results to keep notebook output smallish\n",
    "for result in list(collections.OrderedDict(sorted(average_keyword_dist_record.items(), reverse=True)).items())[0:10]:\n",
    "    print(str(result) + '\\n')"
   ]
  },
  {
   "cell_type": "code",
   "execution_count": 26,
   "metadata": {
    "collapsed": false
   },
   "outputs": [
    {
     "name": "stdout",
     "output_type": "stream",
     "text": [
      "(3.6106443405151367, [{'keywords': ['Geoscience', 'geology', 'hydrogeology', 'Goyder Institute for Water Research'], '_id': '5915a6bd3dd97b0a4c19f762'}, {'keywords': ['Geoscience', 'geology', 'hydrogeology', 'Goyder Institute for Water Research'], '_id': '5915a6bd3dd97b0a4c19f7b0'}])\n",
      "\n",
      "(3.3362913131713867, [{'keywords': ['fossils', 'fauna'], '_id': '59159e9b3dd97b0a4c16538b'}])\n",
      "\n",
      "(3.3360984325408936, [{'keywords': ['TERN_Soils', 'TERN_Soils_DSM', 'hematite', 'goethite', 'soil color', 'soil colour', 'visible-near-infrared reflectance', 'soil mapping', 'geostatistical simulations'], '_id': '5915a6bd3dd97b0a4c19f9f4'}])\n",
      "\n",
      "(3.2049422264099121, [{'keywords': ['geogenetics', 'Drupal', 'genomics', 'bioinformatics'], '_id': '5915a6bd3dd97b0a4c19f96a'}])\n",
      "\n",
      "(3.1519181728363037, [{'keywords': ['reptiles', 'fauna'], '_id': '59159e9b3dd97b0a4c1653d8'}])\n",
      "\n",
      "(3.0885274410247803, [{'keywords': ['mammals', 'fauna'], '_id': '59159e9b3dd97b0a4c165388'}, {'keywords': ['mammals', 'fauna'], '_id': '59159e9b3dd97b0a4c1653d5'}, {'keywords': ['mammals', 'fauna'], '_id': '59159e9b3dd97b0a4c1653de'}, {'keywords': ['mammals', 'fauna'], '_id': '59159e9b3dd97b0a4c1653f6'}, {'keywords': ['fauna', 'mammals'], '_id': '59159e9b3dd97b0a4c165401'}])\n",
      "\n",
      "(2.9496593475341797, [{'keywords': ['microbial', 'microbes'], '_id': '59159e9b3dd97b0a4c1653bb'}])\n",
      "\n",
      "(2.9495782852172852, [{'keywords': ['FGARA', 'maize', 'corn', 'AGRICULTURE-Crops', 'AGRICULTURE-Irrigation', 'Australia', 'INDUSTRY-Primary', 'LAND-Use', 'Queensland', 'SOIL', 'Flinders catchment', 'Gilbert catchment', 'land suitability'], '_id': '5915a6be3dd97b0a4c19fb3e'}])\n",
      "\n",
      "(2.8713812828063965, [{'keywords': ['AEM', 'airborne electromagnetic', 'Gascoyne', 'groundwater', 'aquifer', ''], '_id': '5915a6bd3dd97b0a4c19f968'}])\n",
      "\n",
      "(2.7520794868469238, [{'keywords': ['CAMRIS', 'Coastal and Marine Resources Information System', 'wave height', 'coast', 'coastal', 'Australia'], '_id': '5915a6bd3dd97b0a4c19f930'}, {'keywords': ['CAMRIS', 'Coastal and Marine Resources Information System', 'wave rider buoy', 'coast', 'coastal', 'Australia'], '_id': '5915a6bd3dd97b0a4c19f931'}, {'keywords': ['CAMRIS', 'Coastal and Marine Resources Information System', 'wave height', 'coast', 'coastal', 'Australia'], '_id': '5915a6bd3dd97b0a4c19f932'}, {'keywords': ['CAMRIS', 'Coastal and Marine Resources Information System', 'Australian Sea Lion', 'Neophoca cinerea', 'coast', 'coastal', 'Australia'], '_id': '5915a6bd3dd97b0a4c19f935'}, {'keywords': ['CAMRIS', 'Coastal and Marine Resources Information System', 'New Zealand Fur Seal', 'Arctocephalus forsteri', 'coast', 'coastal', 'Australia'], '_id': '5915a6bd3dd97b0a4c19f936'}, {'keywords': ['CAMRIS', 'Coastal and Marine Resources Information System', 'marine benthic substrate', 'coast', 'coastal', 'Australia'], '_id': '5915a6bd3dd97b0a4c19f939'}])\n",
      "\n"
     ]
    }
   ],
   "source": [
    "non_zero_list = [item for item in list(collections.OrderedDict(sorted(average_keyword_dist_record.items(), reverse=True)).items()) if item[0] != 0]\n",
    "for result in non_zero_list[-10:]:\n",
    "    print(str(result) + '\\n')"
   ]
  },
  {
   "cell_type": "markdown",
   "metadata": {},
   "source": [
    "## Can we assess good keyword tagging this way? Could we score keyword descriptiveness as users enter them? \n",
    "\n",
    "(2.9496593475341797, [{'_id': '59159e9b3dd97b0a4c1653bb', 'keywords': ['microbial', 'microbes']}])\n",
    "\n",
    "vs \n",
    "\n",
    "(8.1640734042017922, [{'_id': '59159e9b3dd97b0a4c165439', 'keywords': ['herbarium', 'herbaria', 'plants', 'angiosperms', 'dicots', 'monocots', 'gymnosperms', 'pteridophytes', 'mosses', 'liverworts', 'lichens', 'fungi', 'algae', 'fossils', 'wood', 'microbes']}])\n",
    "\n",
    "\n"
   ]
  },
  {
   "cell_type": "markdown",
   "metadata": {},
   "source": [
    "## Visualising clusters of keywords\n",
    "\n",
    "We can reduce the dimensions using principal component analysis (PCA) and provide a very (overly) simplified graph of relationships between words "
   ]
  },
  {
   "cell_type": "code",
   "execution_count": 45,
   "metadata": {
    "collapsed": false
   },
   "outputs": [],
   "source": [
    "from sklearn.manifold import TSNE\n",
    "from sklearn.decomposition import PCA\n",
    "from sklearn.datasets import fetch_20newsgroups\n",
    "import re\n",
    "import matplotlib.pyplot as plt"
   ]
  },
  {
   "cell_type": "markdown",
   "metadata": {},
   "source": [
    "### Limiting the model\n",
    "Lets limit the vocabulary of the model to just keywords"
   ]
  },
  {
   "cell_type": "code",
   "execution_count": 78,
   "metadata": {
    "collapsed": false
   },
   "outputs": [],
   "source": [
    "result_vocab = { key: val for key, val in model.vocab.items() if key in unique_keywords }"
   ]
  },
  {
   "cell_type": "code",
   "execution_count": 77,
   "metadata": {
    "collapsed": false
   },
   "outputs": [
    {
     "data": {
      "text/plain": [
       "[('geology', <gensim.models.keyedvectors.Vocab at 0x7f026fc34ba8>),\n",
       " ('transients', <gensim.models.keyedvectors.Vocab at 0x7f026eae50b8>),\n",
       " ('runoff', <gensim.models.keyedvectors.Vocab at 0x7f026fd8e908>),\n",
       " ('ferret', <gensim.models.keyedvectors.Vocab at 0x7f026f6df6d8>),\n",
       " ('wind', <gensim.models.keyedvectors.Vocab at 0x7f026fea9a58>),\n",
       " ('xml', <gensim.models.keyedvectors.Vocab at 0x7f026f8fcf60>),\n",
       " ('projection', <gensim.models.keyedvectors.Vocab at 0x7f026fcd89b0>),\n",
       " ('cetaceans', <gensim.models.keyedvectors.Vocab at 0x7f026ec148d0>),\n",
       " ('wave', <gensim.models.keyedvectors.Vocab at 0x7f026feb5470>)]"
      ]
     },
     "execution_count": 77,
     "metadata": {},
     "output_type": "execute_result"
    }
   ],
   "source": [
    "list(result_vocab.items())[1:10]"
   ]
  },
  {
   "cell_type": "markdown",
   "metadata": {},
   "source": [
    "### Reducing the dimensions and plotting\n",
    "\n",
    "We can then reduce the dimensions from 300 to 2 and plot the relationship of keywords to other keywords"
   ]
  },
  {
   "cell_type": "code",
   "execution_count": 59,
   "metadata": {
    "collapsed": false
   },
   "outputs": [
    {
     "data": {
      "application/javascript": [
       "/* Put everything inside the global mpl namespace */\n",
       "window.mpl = {};\n",
       "\n",
       "mpl.get_websocket_type = function() {\n",
       "    if (typeof(WebSocket) !== 'undefined') {\n",
       "        return WebSocket;\n",
       "    } else if (typeof(MozWebSocket) !== 'undefined') {\n",
       "        return MozWebSocket;\n",
       "    } else {\n",
       "        alert('Your browser does not have WebSocket support.' +\n",
       "              'Please try Chrome, Safari or Firefox ≥ 6. ' +\n",
       "              'Firefox 4 and 5 are also supported but you ' +\n",
       "              'have to enable WebSockets in about:config.');\n",
       "    };\n",
       "}\n",
       "\n",
       "mpl.figure = function(figure_id, websocket, ondownload, parent_element) {\n",
       "    this.id = figure_id;\n",
       "\n",
       "    this.ws = websocket;\n",
       "\n",
       "    this.supports_binary = (this.ws.binaryType != undefined);\n",
       "\n",
       "    if (!this.supports_binary) {\n",
       "        var warnings = document.getElementById(\"mpl-warnings\");\n",
       "        if (warnings) {\n",
       "            warnings.style.display = 'block';\n",
       "            warnings.textContent = (\n",
       "                \"This browser does not support binary websocket messages. \" +\n",
       "                    \"Performance may be slow.\");\n",
       "        }\n",
       "    }\n",
       "\n",
       "    this.imageObj = new Image();\n",
       "\n",
       "    this.context = undefined;\n",
       "    this.message = undefined;\n",
       "    this.canvas = undefined;\n",
       "    this.rubberband_canvas = undefined;\n",
       "    this.rubberband_context = undefined;\n",
       "    this.format_dropdown = undefined;\n",
       "\n",
       "    this.image_mode = 'full';\n",
       "\n",
       "    this.root = $('<div/>');\n",
       "    this._root_extra_style(this.root)\n",
       "    this.root.attr('style', 'display: inline-block');\n",
       "\n",
       "    $(parent_element).append(this.root);\n",
       "\n",
       "    this._init_header(this);\n",
       "    this._init_canvas(this);\n",
       "    this._init_toolbar(this);\n",
       "\n",
       "    var fig = this;\n",
       "\n",
       "    this.waiting = false;\n",
       "\n",
       "    this.ws.onopen =  function () {\n",
       "            fig.send_message(\"supports_binary\", {value: fig.supports_binary});\n",
       "            fig.send_message(\"send_image_mode\", {});\n",
       "            fig.send_message(\"refresh\", {});\n",
       "        }\n",
       "\n",
       "    this.imageObj.onload = function() {\n",
       "            if (fig.image_mode == 'full') {\n",
       "                // Full images could contain transparency (where diff images\n",
       "                // almost always do), so we need to clear the canvas so that\n",
       "                // there is no ghosting.\n",
       "                fig.context.clearRect(0, 0, fig.canvas.width, fig.canvas.height);\n",
       "            }\n",
       "            fig.context.drawImage(fig.imageObj, 0, 0);\n",
       "        };\n",
       "\n",
       "    this.imageObj.onunload = function() {\n",
       "        this.ws.close();\n",
       "    }\n",
       "\n",
       "    this.ws.onmessage = this._make_on_message_function(this);\n",
       "\n",
       "    this.ondownload = ondownload;\n",
       "}\n",
       "\n",
       "mpl.figure.prototype._init_header = function() {\n",
       "    var titlebar = $(\n",
       "        '<div class=\"ui-dialog-titlebar ui-widget-header ui-corner-all ' +\n",
       "        'ui-helper-clearfix\"/>');\n",
       "    var titletext = $(\n",
       "        '<div class=\"ui-dialog-title\" style=\"width: 100%; ' +\n",
       "        'text-align: center; padding: 3px;\"/>');\n",
       "    titlebar.append(titletext)\n",
       "    this.root.append(titlebar);\n",
       "    this.header = titletext[0];\n",
       "}\n",
       "\n",
       "\n",
       "\n",
       "mpl.figure.prototype._canvas_extra_style = function(canvas_div) {\n",
       "\n",
       "}\n",
       "\n",
       "\n",
       "mpl.figure.prototype._root_extra_style = function(canvas_div) {\n",
       "\n",
       "}\n",
       "\n",
       "mpl.figure.prototype._init_canvas = function() {\n",
       "    var fig = this;\n",
       "\n",
       "    var canvas_div = $('<div/>');\n",
       "\n",
       "    canvas_div.attr('style', 'position: relative; clear: both; outline: 0');\n",
       "\n",
       "    function canvas_keyboard_event(event) {\n",
       "        return fig.key_event(event, event['data']);\n",
       "    }\n",
       "\n",
       "    canvas_div.keydown('key_press', canvas_keyboard_event);\n",
       "    canvas_div.keyup('key_release', canvas_keyboard_event);\n",
       "    this.canvas_div = canvas_div\n",
       "    this._canvas_extra_style(canvas_div)\n",
       "    this.root.append(canvas_div);\n",
       "\n",
       "    var canvas = $('<canvas/>');\n",
       "    canvas.addClass('mpl-canvas');\n",
       "    canvas.attr('style', \"left: 0; top: 0; z-index: 0; outline: 0\")\n",
       "\n",
       "    this.canvas = canvas[0];\n",
       "    this.context = canvas[0].getContext(\"2d\");\n",
       "\n",
       "    var rubberband = $('<canvas/>');\n",
       "    rubberband.attr('style', \"position: absolute; left: 0; top: 0; z-index: 1;\")\n",
       "\n",
       "    var pass_mouse_events = true;\n",
       "\n",
       "    canvas_div.resizable({\n",
       "        start: function(event, ui) {\n",
       "            pass_mouse_events = false;\n",
       "        },\n",
       "        resize: function(event, ui) {\n",
       "            fig.request_resize(ui.size.width, ui.size.height);\n",
       "        },\n",
       "        stop: function(event, ui) {\n",
       "            pass_mouse_events = true;\n",
       "            fig.request_resize(ui.size.width, ui.size.height);\n",
       "        },\n",
       "    });\n",
       "\n",
       "    function mouse_event_fn(event) {\n",
       "        if (pass_mouse_events)\n",
       "            return fig.mouse_event(event, event['data']);\n",
       "    }\n",
       "\n",
       "    rubberband.mousedown('button_press', mouse_event_fn);\n",
       "    rubberband.mouseup('button_release', mouse_event_fn);\n",
       "    // Throttle sequential mouse events to 1 every 20ms.\n",
       "    rubberband.mousemove('motion_notify', mouse_event_fn);\n",
       "\n",
       "    rubberband.mouseenter('figure_enter', mouse_event_fn);\n",
       "    rubberband.mouseleave('figure_leave', mouse_event_fn);\n",
       "\n",
       "    canvas_div.on(\"wheel\", function (event) {\n",
       "        event = event.originalEvent;\n",
       "        event['data'] = 'scroll'\n",
       "        if (event.deltaY < 0) {\n",
       "            event.step = 1;\n",
       "        } else {\n",
       "            event.step = -1;\n",
       "        }\n",
       "        mouse_event_fn(event);\n",
       "    });\n",
       "\n",
       "    canvas_div.append(canvas);\n",
       "    canvas_div.append(rubberband);\n",
       "\n",
       "    this.rubberband = rubberband;\n",
       "    this.rubberband_canvas = rubberband[0];\n",
       "    this.rubberband_context = rubberband[0].getContext(\"2d\");\n",
       "    this.rubberband_context.strokeStyle = \"#000000\";\n",
       "\n",
       "    this._resize_canvas = function(width, height) {\n",
       "        // Keep the size of the canvas, canvas container, and rubber band\n",
       "        // canvas in synch.\n",
       "        canvas_div.css('width', width)\n",
       "        canvas_div.css('height', height)\n",
       "\n",
       "        canvas.attr('width', width);\n",
       "        canvas.attr('height', height);\n",
       "\n",
       "        rubberband.attr('width', width);\n",
       "        rubberband.attr('height', height);\n",
       "    }\n",
       "\n",
       "    // Set the figure to an initial 600x600px, this will subsequently be updated\n",
       "    // upon first draw.\n",
       "    this._resize_canvas(600, 600);\n",
       "\n",
       "    // Disable right mouse context menu.\n",
       "    $(this.rubberband_canvas).bind(\"contextmenu\",function(e){\n",
       "        return false;\n",
       "    });\n",
       "\n",
       "    function set_focus () {\n",
       "        canvas.focus();\n",
       "        canvas_div.focus();\n",
       "    }\n",
       "\n",
       "    window.setTimeout(set_focus, 100);\n",
       "}\n",
       "\n",
       "mpl.figure.prototype._init_toolbar = function() {\n",
       "    var fig = this;\n",
       "\n",
       "    var nav_element = $('<div/>')\n",
       "    nav_element.attr('style', 'width: 100%');\n",
       "    this.root.append(nav_element);\n",
       "\n",
       "    // Define a callback function for later on.\n",
       "    function toolbar_event(event) {\n",
       "        return fig.toolbar_button_onclick(event['data']);\n",
       "    }\n",
       "    function toolbar_mouse_event(event) {\n",
       "        return fig.toolbar_button_onmouseover(event['data']);\n",
       "    }\n",
       "\n",
       "    for(var toolbar_ind in mpl.toolbar_items) {\n",
       "        var name = mpl.toolbar_items[toolbar_ind][0];\n",
       "        var tooltip = mpl.toolbar_items[toolbar_ind][1];\n",
       "        var image = mpl.toolbar_items[toolbar_ind][2];\n",
       "        var method_name = mpl.toolbar_items[toolbar_ind][3];\n",
       "\n",
       "        if (!name) {\n",
       "            // put a spacer in here.\n",
       "            continue;\n",
       "        }\n",
       "        var button = $('<button/>');\n",
       "        button.addClass('ui-button ui-widget ui-state-default ui-corner-all ' +\n",
       "                        'ui-button-icon-only');\n",
       "        button.attr('role', 'button');\n",
       "        button.attr('aria-disabled', 'false');\n",
       "        button.click(method_name, toolbar_event);\n",
       "        button.mouseover(tooltip, toolbar_mouse_event);\n",
       "\n",
       "        var icon_img = $('<span/>');\n",
       "        icon_img.addClass('ui-button-icon-primary ui-icon');\n",
       "        icon_img.addClass(image);\n",
       "        icon_img.addClass('ui-corner-all');\n",
       "\n",
       "        var tooltip_span = $('<span/>');\n",
       "        tooltip_span.addClass('ui-button-text');\n",
       "        tooltip_span.html(tooltip);\n",
       "\n",
       "        button.append(icon_img);\n",
       "        button.append(tooltip_span);\n",
       "\n",
       "        nav_element.append(button);\n",
       "    }\n",
       "\n",
       "    var fmt_picker_span = $('<span/>');\n",
       "\n",
       "    var fmt_picker = $('<select/>');\n",
       "    fmt_picker.addClass('mpl-toolbar-option ui-widget ui-widget-content');\n",
       "    fmt_picker_span.append(fmt_picker);\n",
       "    nav_element.append(fmt_picker_span);\n",
       "    this.format_dropdown = fmt_picker[0];\n",
       "\n",
       "    for (var ind in mpl.extensions) {\n",
       "        var fmt = mpl.extensions[ind];\n",
       "        var option = $(\n",
       "            '<option/>', {selected: fmt === mpl.default_extension}).html(fmt);\n",
       "        fmt_picker.append(option)\n",
       "    }\n",
       "\n",
       "    // Add hover states to the ui-buttons\n",
       "    $( \".ui-button\" ).hover(\n",
       "        function() { $(this).addClass(\"ui-state-hover\");},\n",
       "        function() { $(this).removeClass(\"ui-state-hover\");}\n",
       "    );\n",
       "\n",
       "    var status_bar = $('<span class=\"mpl-message\"/>');\n",
       "    nav_element.append(status_bar);\n",
       "    this.message = status_bar[0];\n",
       "}\n",
       "\n",
       "mpl.figure.prototype.request_resize = function(x_pixels, y_pixels) {\n",
       "    // Request matplotlib to resize the figure. Matplotlib will then trigger a resize in the client,\n",
       "    // which will in turn request a refresh of the image.\n",
       "    this.send_message('resize', {'width': x_pixels, 'height': y_pixels});\n",
       "}\n",
       "\n",
       "mpl.figure.prototype.send_message = function(type, properties) {\n",
       "    properties['type'] = type;\n",
       "    properties['figure_id'] = this.id;\n",
       "    this.ws.send(JSON.stringify(properties));\n",
       "}\n",
       "\n",
       "mpl.figure.prototype.send_draw_message = function() {\n",
       "    if (!this.waiting) {\n",
       "        this.waiting = true;\n",
       "        this.ws.send(JSON.stringify({type: \"draw\", figure_id: this.id}));\n",
       "    }\n",
       "}\n",
       "\n",
       "\n",
       "mpl.figure.prototype.handle_save = function(fig, msg) {\n",
       "    var format_dropdown = fig.format_dropdown;\n",
       "    var format = format_dropdown.options[format_dropdown.selectedIndex].value;\n",
       "    fig.ondownload(fig, format);\n",
       "}\n",
       "\n",
       "\n",
       "mpl.figure.prototype.handle_resize = function(fig, msg) {\n",
       "    var size = msg['size'];\n",
       "    if (size[0] != fig.canvas.width || size[1] != fig.canvas.height) {\n",
       "        fig._resize_canvas(size[0], size[1]);\n",
       "        fig.send_message(\"refresh\", {});\n",
       "    };\n",
       "}\n",
       "\n",
       "mpl.figure.prototype.handle_rubberband = function(fig, msg) {\n",
       "    var x0 = msg['x0'];\n",
       "    var y0 = fig.canvas.height - msg['y0'];\n",
       "    var x1 = msg['x1'];\n",
       "    var y1 = fig.canvas.height - msg['y1'];\n",
       "    x0 = Math.floor(x0) + 0.5;\n",
       "    y0 = Math.floor(y0) + 0.5;\n",
       "    x1 = Math.floor(x1) + 0.5;\n",
       "    y1 = Math.floor(y1) + 0.5;\n",
       "    var min_x = Math.min(x0, x1);\n",
       "    var min_y = Math.min(y0, y1);\n",
       "    var width = Math.abs(x1 - x0);\n",
       "    var height = Math.abs(y1 - y0);\n",
       "\n",
       "    fig.rubberband_context.clearRect(\n",
       "        0, 0, fig.canvas.width, fig.canvas.height);\n",
       "\n",
       "    fig.rubberband_context.strokeRect(min_x, min_y, width, height);\n",
       "}\n",
       "\n",
       "mpl.figure.prototype.handle_figure_label = function(fig, msg) {\n",
       "    // Updates the figure title.\n",
       "    fig.header.textContent = msg['label'];\n",
       "}\n",
       "\n",
       "mpl.figure.prototype.handle_cursor = function(fig, msg) {\n",
       "    var cursor = msg['cursor'];\n",
       "    switch(cursor)\n",
       "    {\n",
       "    case 0:\n",
       "        cursor = 'pointer';\n",
       "        break;\n",
       "    case 1:\n",
       "        cursor = 'default';\n",
       "        break;\n",
       "    case 2:\n",
       "        cursor = 'crosshair';\n",
       "        break;\n",
       "    case 3:\n",
       "        cursor = 'move';\n",
       "        break;\n",
       "    }\n",
       "    fig.rubberband_canvas.style.cursor = cursor;\n",
       "}\n",
       "\n",
       "mpl.figure.prototype.handle_message = function(fig, msg) {\n",
       "    fig.message.textContent = msg['message'];\n",
       "}\n",
       "\n",
       "mpl.figure.prototype.handle_draw = function(fig, msg) {\n",
       "    // Request the server to send over a new figure.\n",
       "    fig.send_draw_message();\n",
       "}\n",
       "\n",
       "mpl.figure.prototype.handle_image_mode = function(fig, msg) {\n",
       "    fig.image_mode = msg['mode'];\n",
       "}\n",
       "\n",
       "mpl.figure.prototype.updated_canvas_event = function() {\n",
       "    // Called whenever the canvas gets updated.\n",
       "    this.send_message(\"ack\", {});\n",
       "}\n",
       "\n",
       "// A function to construct a web socket function for onmessage handling.\n",
       "// Called in the figure constructor.\n",
       "mpl.figure.prototype._make_on_message_function = function(fig) {\n",
       "    return function socket_on_message(evt) {\n",
       "        if (evt.data instanceof Blob) {\n",
       "            /* FIXME: We get \"Resource interpreted as Image but\n",
       "             * transferred with MIME type text/plain:\" errors on\n",
       "             * Chrome.  But how to set the MIME type?  It doesn't seem\n",
       "             * to be part of the websocket stream */\n",
       "            evt.data.type = \"image/png\";\n",
       "\n",
       "            /* Free the memory for the previous frames */\n",
       "            if (fig.imageObj.src) {\n",
       "                (window.URL || window.webkitURL).revokeObjectURL(\n",
       "                    fig.imageObj.src);\n",
       "            }\n",
       "\n",
       "            fig.imageObj.src = (window.URL || window.webkitURL).createObjectURL(\n",
       "                evt.data);\n",
       "            fig.updated_canvas_event();\n",
       "            fig.waiting = false;\n",
       "            return;\n",
       "        }\n",
       "        else if (typeof evt.data === 'string' && evt.data.slice(0, 21) == \"data:image/png;base64\") {\n",
       "            fig.imageObj.src = evt.data;\n",
       "            fig.updated_canvas_event();\n",
       "            fig.waiting = false;\n",
       "            return;\n",
       "        }\n",
       "\n",
       "        var msg = JSON.parse(evt.data);\n",
       "        var msg_type = msg['type'];\n",
       "\n",
       "        // Call the  \"handle_{type}\" callback, which takes\n",
       "        // the figure and JSON message as its only arguments.\n",
       "        try {\n",
       "            var callback = fig[\"handle_\" + msg_type];\n",
       "        } catch (e) {\n",
       "            console.log(\"No handler for the '\" + msg_type + \"' message type: \", msg);\n",
       "            return;\n",
       "        }\n",
       "\n",
       "        if (callback) {\n",
       "            try {\n",
       "                // console.log(\"Handling '\" + msg_type + \"' message: \", msg);\n",
       "                callback(fig, msg);\n",
       "            } catch (e) {\n",
       "                console.log(\"Exception inside the 'handler_\" + msg_type + \"' callback:\", e, e.stack, msg);\n",
       "            }\n",
       "        }\n",
       "    };\n",
       "}\n",
       "\n",
       "// from http://stackoverflow.com/questions/1114465/getting-mouse-location-in-canvas\n",
       "mpl.findpos = function(e) {\n",
       "    //this section is from http://www.quirksmode.org/js/events_properties.html\n",
       "    var targ;\n",
       "    if (!e)\n",
       "        e = window.event;\n",
       "    if (e.target)\n",
       "        targ = e.target;\n",
       "    else if (e.srcElement)\n",
       "        targ = e.srcElement;\n",
       "    if (targ.nodeType == 3) // defeat Safari bug\n",
       "        targ = targ.parentNode;\n",
       "\n",
       "    // jQuery normalizes the pageX and pageY\n",
       "    // pageX,Y are the mouse positions relative to the document\n",
       "    // offset() returns the position of the element relative to the document\n",
       "    var x = e.pageX - $(targ).offset().left;\n",
       "    var y = e.pageY - $(targ).offset().top;\n",
       "\n",
       "    return {\"x\": x, \"y\": y};\n",
       "};\n",
       "\n",
       "/*\n",
       " * return a copy of an object with only non-object keys\n",
       " * we need this to avoid circular references\n",
       " * http://stackoverflow.com/a/24161582/3208463\n",
       " */\n",
       "function simpleKeys (original) {\n",
       "  return Object.keys(original).reduce(function (obj, key) {\n",
       "    if (typeof original[key] !== 'object')\n",
       "        obj[key] = original[key]\n",
       "    return obj;\n",
       "  }, {});\n",
       "}\n",
       "\n",
       "mpl.figure.prototype.mouse_event = function(event, name) {\n",
       "    var canvas_pos = mpl.findpos(event)\n",
       "\n",
       "    if (name === 'button_press')\n",
       "    {\n",
       "        this.canvas.focus();\n",
       "        this.canvas_div.focus();\n",
       "    }\n",
       "\n",
       "    var x = canvas_pos.x;\n",
       "    var y = canvas_pos.y;\n",
       "\n",
       "    this.send_message(name, {x: x, y: y, button: event.button,\n",
       "                             step: event.step,\n",
       "                             guiEvent: simpleKeys(event)});\n",
       "\n",
       "    /* This prevents the web browser from automatically changing to\n",
       "     * the text insertion cursor when the button is pressed.  We want\n",
       "     * to control all of the cursor setting manually through the\n",
       "     * 'cursor' event from matplotlib */\n",
       "    event.preventDefault();\n",
       "    return false;\n",
       "}\n",
       "\n",
       "mpl.figure.prototype._key_event_extra = function(event, name) {\n",
       "    // Handle any extra behaviour associated with a key event\n",
       "}\n",
       "\n",
       "mpl.figure.prototype.key_event = function(event, name) {\n",
       "\n",
       "    // Prevent repeat events\n",
       "    if (name == 'key_press')\n",
       "    {\n",
       "        if (event.which === this._key)\n",
       "            return;\n",
       "        else\n",
       "            this._key = event.which;\n",
       "    }\n",
       "    if (name == 'key_release')\n",
       "        this._key = null;\n",
       "\n",
       "    var value = '';\n",
       "    if (event.ctrlKey && event.which != 17)\n",
       "        value += \"ctrl+\";\n",
       "    if (event.altKey && event.which != 18)\n",
       "        value += \"alt+\";\n",
       "    if (event.shiftKey && event.which != 16)\n",
       "        value += \"shift+\";\n",
       "\n",
       "    value += 'k';\n",
       "    value += event.which.toString();\n",
       "\n",
       "    this._key_event_extra(event, name);\n",
       "\n",
       "    this.send_message(name, {key: value,\n",
       "                             guiEvent: simpleKeys(event)});\n",
       "    return false;\n",
       "}\n",
       "\n",
       "mpl.figure.prototype.toolbar_button_onclick = function(name) {\n",
       "    if (name == 'download') {\n",
       "        this.handle_save(this, null);\n",
       "    } else {\n",
       "        this.send_message(\"toolbar_button\", {name: name});\n",
       "    }\n",
       "};\n",
       "\n",
       "mpl.figure.prototype.toolbar_button_onmouseover = function(tooltip) {\n",
       "    this.message.textContent = tooltip;\n",
       "};\n",
       "mpl.toolbar_items = [[\"Home\", \"Reset original view\", \"fa fa-home icon-home\", \"home\"], [\"Back\", \"Back to  previous view\", \"fa fa-arrow-left icon-arrow-left\", \"back\"], [\"Forward\", \"Forward to next view\", \"fa fa-arrow-right icon-arrow-right\", \"forward\"], [\"\", \"\", \"\", \"\"], [\"Pan\", \"Pan axes with left mouse, zoom with right\", \"fa fa-arrows icon-move\", \"pan\"], [\"Zoom\", \"Zoom to rectangle\", \"fa fa-square-o icon-check-empty\", \"zoom\"], [\"\", \"\", \"\", \"\"], [\"Download\", \"Download plot\", \"fa fa-floppy-o icon-save\", \"download\"]];\n",
       "\n",
       "mpl.extensions = [\"eps\", \"jpeg\", \"pdf\", \"png\", \"ps\", \"raw\", \"svg\", \"tif\"];\n",
       "\n",
       "mpl.default_extension = \"png\";var comm_websocket_adapter = function(comm) {\n",
       "    // Create a \"websocket\"-like object which calls the given IPython comm\n",
       "    // object with the appropriate methods. Currently this is a non binary\n",
       "    // socket, so there is still some room for performance tuning.\n",
       "    var ws = {};\n",
       "\n",
       "    ws.close = function() {\n",
       "        comm.close()\n",
       "    };\n",
       "    ws.send = function(m) {\n",
       "        //console.log('sending', m);\n",
       "        comm.send(m);\n",
       "    };\n",
       "    // Register the callback with on_msg.\n",
       "    comm.on_msg(function(msg) {\n",
       "        //console.log('receiving', msg['content']['data'], msg);\n",
       "        // Pass the mpl event to the overriden (by mpl) onmessage function.\n",
       "        ws.onmessage(msg['content']['data'])\n",
       "    });\n",
       "    return ws;\n",
       "}\n",
       "\n",
       "mpl.mpl_figure_comm = function(comm, msg) {\n",
       "    // This is the function which gets called when the mpl process\n",
       "    // starts-up an IPython Comm through the \"matplotlib\" channel.\n",
       "\n",
       "    var id = msg.content.data.id;\n",
       "    // Get hold of the div created by the display call when the Comm\n",
       "    // socket was opened in Python.\n",
       "    var element = $(\"#\" + id);\n",
       "    var ws_proxy = comm_websocket_adapter(comm)\n",
       "\n",
       "    function ondownload(figure, format) {\n",
       "        window.open(figure.imageObj.src);\n",
       "    }\n",
       "\n",
       "    var fig = new mpl.figure(id, ws_proxy,\n",
       "                           ondownload,\n",
       "                           element.get(0));\n",
       "\n",
       "    // Call onopen now - mpl needs it, as it is assuming we've passed it a real\n",
       "    // web socket which is closed, not our websocket->open comm proxy.\n",
       "    ws_proxy.onopen();\n",
       "\n",
       "    fig.parent_element = element.get(0);\n",
       "    fig.cell_info = mpl.find_output_cell(\"<div id='\" + id + \"'></div>\");\n",
       "    if (!fig.cell_info) {\n",
       "        console.error(\"Failed to find cell for figure\", id, fig);\n",
       "        return;\n",
       "    }\n",
       "\n",
       "    var output_index = fig.cell_info[2]\n",
       "    var cell = fig.cell_info[0];\n",
       "\n",
       "};\n",
       "\n",
       "mpl.figure.prototype.handle_close = function(fig, msg) {\n",
       "    fig.root.unbind('remove')\n",
       "\n",
       "    // Update the output cell to use the data from the current canvas.\n",
       "    fig.push_to_output();\n",
       "    var dataURL = fig.canvas.toDataURL();\n",
       "    // Re-enable the keyboard manager in IPython - without this line, in FF,\n",
       "    // the notebook keyboard shortcuts fail.\n",
       "    IPython.keyboard_manager.enable()\n",
       "    $(fig.parent_element).html('<img src=\"' + dataURL + '\">');\n",
       "    fig.close_ws(fig, msg);\n",
       "}\n",
       "\n",
       "mpl.figure.prototype.close_ws = function(fig, msg){\n",
       "    fig.send_message('closing', msg);\n",
       "    // fig.ws.close()\n",
       "}\n",
       "\n",
       "mpl.figure.prototype.push_to_output = function(remove_interactive) {\n",
       "    // Turn the data on the canvas into data in the output cell.\n",
       "    var dataURL = this.canvas.toDataURL();\n",
       "    this.cell_info[1]['text/html'] = '<img src=\"' + dataURL + '\">';\n",
       "}\n",
       "\n",
       "mpl.figure.prototype.updated_canvas_event = function() {\n",
       "    // Tell IPython that the notebook contents must change.\n",
       "    IPython.notebook.set_dirty(true);\n",
       "    this.send_message(\"ack\", {});\n",
       "    var fig = this;\n",
       "    // Wait a second, then push the new image to the DOM so\n",
       "    // that it is saved nicely (might be nice to debounce this).\n",
       "    setTimeout(function () { fig.push_to_output() }, 1000);\n",
       "}\n",
       "\n",
       "mpl.figure.prototype._init_toolbar = function() {\n",
       "    var fig = this;\n",
       "\n",
       "    var nav_element = $('<div/>')\n",
       "    nav_element.attr('style', 'width: 100%');\n",
       "    this.root.append(nav_element);\n",
       "\n",
       "    // Define a callback function for later on.\n",
       "    function toolbar_event(event) {\n",
       "        return fig.toolbar_button_onclick(event['data']);\n",
       "    }\n",
       "    function toolbar_mouse_event(event) {\n",
       "        return fig.toolbar_button_onmouseover(event['data']);\n",
       "    }\n",
       "\n",
       "    for(var toolbar_ind in mpl.toolbar_items){\n",
       "        var name = mpl.toolbar_items[toolbar_ind][0];\n",
       "        var tooltip = mpl.toolbar_items[toolbar_ind][1];\n",
       "        var image = mpl.toolbar_items[toolbar_ind][2];\n",
       "        var method_name = mpl.toolbar_items[toolbar_ind][3];\n",
       "\n",
       "        if (!name) { continue; };\n",
       "\n",
       "        var button = $('<button class=\"btn btn-default\" href=\"#\" title=\"' + name + '\"><i class=\"fa ' + image + ' fa-lg\"></i></button>');\n",
       "        button.click(method_name, toolbar_event);\n",
       "        button.mouseover(tooltip, toolbar_mouse_event);\n",
       "        nav_element.append(button);\n",
       "    }\n",
       "\n",
       "    // Add the status bar.\n",
       "    var status_bar = $('<span class=\"mpl-message\" style=\"text-align:right; float: right;\"/>');\n",
       "    nav_element.append(status_bar);\n",
       "    this.message = status_bar[0];\n",
       "\n",
       "    // Add the close button to the window.\n",
       "    var buttongrp = $('<div class=\"btn-group inline pull-right\"></div>');\n",
       "    var button = $('<button class=\"btn btn-mini btn-primary\" href=\"#\" title=\"Stop Interaction\"><i class=\"fa fa-power-off icon-remove icon-large\"></i></button>');\n",
       "    button.click(function (evt) { fig.handle_close(fig, {}); } );\n",
       "    button.mouseover('Stop Interaction', toolbar_mouse_event);\n",
       "    buttongrp.append(button);\n",
       "    var titlebar = this.root.find($('.ui-dialog-titlebar'));\n",
       "    titlebar.prepend(buttongrp);\n",
       "}\n",
       "\n",
       "mpl.figure.prototype._root_extra_style = function(el){\n",
       "    var fig = this\n",
       "    el.on(\"remove\", function(){\n",
       "\tfig.close_ws(fig, {});\n",
       "    });\n",
       "}\n",
       "\n",
       "mpl.figure.prototype._canvas_extra_style = function(el){\n",
       "    // this is important to make the div 'focusable\n",
       "    el.attr('tabindex', 0)\n",
       "    // reach out to IPython and tell the keyboard manager to turn it's self\n",
       "    // off when our div gets focus\n",
       "\n",
       "    // location in version 3\n",
       "    if (IPython.notebook.keyboard_manager) {\n",
       "        IPython.notebook.keyboard_manager.register_events(el);\n",
       "    }\n",
       "    else {\n",
       "        // location in version 2\n",
       "        IPython.keyboard_manager.register_events(el);\n",
       "    }\n",
       "\n",
       "}\n",
       "\n",
       "mpl.figure.prototype._key_event_extra = function(event, name) {\n",
       "    var manager = IPython.notebook.keyboard_manager;\n",
       "    if (!manager)\n",
       "        manager = IPython.keyboard_manager;\n",
       "\n",
       "    // Check for shift+enter\n",
       "    if (event.shiftKey && event.which == 13) {\n",
       "        this.canvas_div.blur();\n",
       "        // select the cell after this one\n",
       "        var index = IPython.notebook.find_cell_index(this.cell_info[0]);\n",
       "        IPython.notebook.select(index + 1);\n",
       "    }\n",
       "}\n",
       "\n",
       "mpl.figure.prototype.handle_save = function(fig, msg) {\n",
       "    fig.ondownload(fig, null);\n",
       "}\n",
       "\n",
       "\n",
       "mpl.find_output_cell = function(html_output) {\n",
       "    // Return the cell and output element which can be found *uniquely* in the notebook.\n",
       "    // Note - this is a bit hacky, but it is done because the \"notebook_saving.Notebook\"\n",
       "    // IPython event is triggered only after the cells have been serialised, which for\n",
       "    // our purposes (turning an active figure into a static one), is too late.\n",
       "    var cells = IPython.notebook.get_cells();\n",
       "    var ncells = cells.length;\n",
       "    for (var i=0; i<ncells; i++) {\n",
       "        var cell = cells[i];\n",
       "        if (cell.cell_type === 'code'){\n",
       "            for (var j=0; j<cell.output_area.outputs.length; j++) {\n",
       "                var data = cell.output_area.outputs[j];\n",
       "                if (data.data) {\n",
       "                    // IPython >= 3 moved mimebundle to data attribute of output\n",
       "                    data = data.data;\n",
       "                }\n",
       "                if (data['text/html'] == html_output) {\n",
       "                    return [cell, data, j];\n",
       "                }\n",
       "            }\n",
       "        }\n",
       "    }\n",
       "}\n",
       "\n",
       "// Register the function which deals with the matplotlib target/channel.\n",
       "// The kernel may be null if the page has been refreshed.\n",
       "if (IPython.notebook.kernel != null) {\n",
       "    IPython.notebook.kernel.comm_manager.register_target('matplotlib', mpl.mpl_figure_comm);\n",
       "}\n"
      ],
      "text/plain": [
       "<IPython.core.display.Javascript object>"
      ]
     },
     "metadata": {},
     "output_type": "display_data"
    },
    {
     "data": {
      "text/html": [
       "<img src=\"data:image/png;base64,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\">"
      ],
      "text/plain": [
       "<IPython.core.display.HTML object>"
      ]
     },
     "metadata": {},
     "output_type": "display_data"
    }
   ],
   "source": [
    "X = model[result_vocab]\n",
    "\n",
    "font = matplotlib.font_manager.FontProperties(fname='./ipag.ttc')\n",
    "\n",
    "words_np = []\n",
    "#a list of labels (words)\n",
    "words_label = []\n",
    "for word, vector in result_vocab.items():\n",
    "    words_np.append(model[word])\n",
    "    words_label.append(word)\n",
    "        \n",
    "pca = PCA(n_components=2)\n",
    "pca.fit(words_np)\n",
    "reduced= pca.transform(words_np)\n",
    "# plt.plot(pca.explained_variance_ratio_)\n",
    "for index,vec in enumerate(reduced):\n",
    "    # print ('%s %s'%(words_label[index],vec))\n",
    "    x,y=vec[0],vec[1]\n",
    "    plt.scatter(x,y)\n",
    "    plt.annotate(words_label[index],xy=(x,y))\n",
    "plt.show()"
   ]
  },
  {
   "cell_type": "markdown",
   "metadata": {},
   "source": [
    "## Suggesting new keywords\n",
    "\n",
    "We could envisage a keyword tagging interface were we suggest new keywords based on the average distance from existing keywords"
   ]
  },
  {
   "cell_type": "code",
   "execution_count": 63,
   "metadata": {
    "collapsed": false
   },
   "outputs": [
    {
     "data": {
      "text/plain": [
       "[('dog', 0.921538770198822),\n",
       " ('cat', 0.9122815728187561),\n",
       " ('dogs', 0.7285658121109009),\n",
       " ('pet', 0.6637269258499146),\n",
       " ('cats', 0.6461218595504761),\n",
       " ('puppy', 0.5556367635726929),\n",
       " ('horse', 0.5517184138298035),\n",
       " ('animal', 0.531834065914154),\n",
       " ('pets', 0.5269761085510254),\n",
       " ('hound', 0.5094276666641235)]"
      ]
     },
     "execution_count": 63,
     "metadata": {},
     "output_type": "execute_result"
    }
   ],
   "source": [
    "model.similar_by_vector((model['dog'] + model['cat'])/2,topn=10)"
   ]
  },
  {
   "cell_type": "code",
   "execution_count": 71,
   "metadata": {
    "collapsed": false
   },
   "outputs": [
    {
     "data": {
      "text/plain": [
       "[('runoff', 0.8186976909637451),\n",
       " ('water', 0.8018253445625305),\n",
       " ('sewage', 0.5654644966125488),\n",
       " ('run-off', 0.546949565410614),\n",
       " ('groundwater', 0.5467579960823059),\n",
       " ('polluted', 0.5163611173629761),\n",
       " ('drainage', 0.515787661075592),\n",
       " ('irrigation', 0.5122992992401123),\n",
       " ('pollution', 0.5067722797393799),\n",
       " ('seawater', 0.4968295097351074),\n",
       " ('soil', 0.4866226017475128),\n",
       " ('drinking', 0.4837367534637451),\n",
       " ('waste', 0.4792274832725525),\n",
       " ('rainwater', 0.4654936194419861),\n",
       " ('moisture', 0.4654146730899811),\n",
       " ('reservoirs', 0.46503356099128723),\n",
       " ('rain', 0.46365755796432495),\n",
       " ('potable', 0.46122878789901733),\n",
       " ('rivers', 0.4577578902244568),\n",
       " ('reservoir', 0.45721039175987244),\n",
       " ('wastewater', 0.4544180631637573),\n",
       " ('waters', 0.4541703462600708),\n",
       " ('flooding', 0.44811367988586426),\n",
       " ('clean', 0.44566574692726135),\n",
       " ('rainfall', 0.43809616565704346),\n",
       " ('contaminated', 0.4357152581214905),\n",
       " ('flow', 0.4356193542480469),\n",
       " ('drain', 0.43446698784828186),\n",
       " ('contamination', 0.4323706030845642),\n",
       " ('sediment', 0.4322854280471802)]"
      ]
     },
     "execution_count": 71,
     "metadata": {},
     "output_type": "execute_result"
    }
   ],
   "source": [
    "model.similar_by_vector((model['water'] + model['runoff'])/2,topn=30)"
   ]
  },
  {
   "cell_type": "code",
   "execution_count": 73,
   "metadata": {
    "collapsed": false
   },
   "outputs": [
    {
     "data": {
      "text/plain": [
       "[('radiation', 0.8520972728729248),\n",
       " ('solar', 0.8336105346679688),\n",
       " ('ultraviolet', 0.6234352588653564),\n",
       " ('uv', 0.5582942962646484),\n",
       " ('infrared', 0.5512473583221436),\n",
       " ('thermal', 0.5436907410621643),\n",
       " ('cosmic', 0.5349714756011963),\n",
       " ('sunlight', 0.5338567495346069),\n",
       " ('emitted', 0.5294535756111145),\n",
       " ('electromagnetic', 0.5245305299758911)]"
      ]
     },
     "execution_count": 73,
     "metadata": {},
     "output_type": "execute_result"
    }
   ],
   "source": [
    "model.similar_by_vector((model['solar'] + model['radiation'])/2,topn=10)"
   ]
  },
  {
   "cell_type": "code",
   "execution_count": null,
   "metadata": {
    "collapsed": true
   },
   "outputs": [],
   "source": []
  }
 ],
 "metadata": {
  "kernelspec": {
   "display_name": "Python 3",
   "language": "python",
   "name": "python3"
  },
  "language_info": {
   "codemirror_mode": {
    "name": "ipython",
    "version": 3
   },
   "file_extension": ".py",
   "mimetype": "text/x-python",
   "name": "python",
   "nbconvert_exporter": "python",
   "pygments_lexer": "ipython3",
   "version": "3.5.2"
  }
 },
 "nbformat": 4,
 "nbformat_minor": 2
}
