{
 "cells": [
  {
   "cell_type": "markdown",
   "metadata": {},
   "source": [
    "# Exploring Metadata Keyword Relationships with word2vec\n",
    "\n",
    "This notebook demonstrates using a pretrained word2vec model to explore how keywords are related to other words and other keywords. \n",
    "\n",
    "Examples of how to use pretrained models and code where used from https://github.com/3Top/word2vec-api\n"
   ]
  },
  {
   "cell_type": "markdown",
   "metadata": {},
   "source": [
    "This notebook runs on the docker jupyter/datascience-notebook container with gensim additionally installed as below "
   ]
  },
  {
   "cell_type": "code",
   "execution_count": null,
   "metadata": {
    "collapsed": false
   },
   "outputs": [],
   "source": [
    "%%bash\n",
    "pip install gensim"
   ]
  },
  {
   "cell_type": "code",
   "execution_count": 197,
   "metadata": {
    "collapsed": true
   },
   "outputs": [],
   "source": [
    "from gensim.models.word2vec import Word2Vec as w\n",
    "import gensim.models\n",
    "from gensim import utils, matutils"
   ]
  },
  {
   "cell_type": "markdown",
   "metadata": {},
   "source": [
    "## Loading a pretrained word2vec model\n",
    "\n",
    "This model has been sourced http://nlp.stanford.edu/data/glove.6B.zip to use this you'll need to download it as it's too big to package alongside this notebook.\n",
    "\n",
    "To load it sucessfully it has been modified to add a '400000 300' (presumably specifying the number of words and vector size) to a new line above the rest of the data"
   ]
  },
  {
   "cell_type": "code",
   "execution_count": 204,
   "metadata": {
    "collapsed": false
   },
   "outputs": [
    {
     "name": "stdout",
     "output_type": "stream",
     "text": [
      "400000 300 \n",
      "the 0.04656 0.21318 -0.0074364 -0.45854 -0.035639 0.23643 -0.28836 0.21521 -0.13486 -1.6413 -0.26091 0.032434 0.056621 -0.043296 -0.021672 0.22476 -0.075129 -0.067018 -0.14247 0.038825 -0.18951 0.29977 0.39305 0.17887 -0.17343 -0.21178 0.23617 -0.063681 -0.42318 -0.11661 0.093754 0.17296 -0.33073 0.49112 -0.68995 -0.092462 0.24742 -0.17991 0.097908 0.083118 0.15299 -0.27276 -0.038934 0.54453 0.53737 0.29105 -0.0073514 0.04788 -0.4076 -0.026759 0.17919 0.010977 -0.10963 -0.26395 0.07399 0.26236 -0.1508 0.34623 0.25758 0.11971 -0.037135 -0.071593 0.43898 -0.040764 0.016425 -0.4464 0.17197 0.046246 0.058639 0.041499 0.53948 0.52495 0.11361 -0.048315 -0.36385 0.18704 0.092761 -0.11129 -0.42085 0.13992 -0.39338 -0.067945 0.12188 0.16707 0.075169 -0.015529 -0.19499 0.19638 0.053194 0.2517 -0.34845 -0.10638 -0.34692 -0.19024 -0.2004 0.12154 -0.29208 0.023353 -0.11618 -0.35768 0.062304 0.35884 0.02906 0.0073005 0.0049482 -0.15048 -0.12313 0.19337 0.12173 0.44503 0.25147 0.10781 -0.17716 0.038691 0.08153 0.14667 0.063666 0.061332 -0.075569 -0.37724 0.01585 -0.30342 0.28374 -0.042013 -0.040715 -0.15269 0.07498 0.15577 0.10433 0.31393 0.19309 0.19429 0.15185 -0.10192 -0.018785 0.20791 0.13366 0.19038 -0.25558 0.304 -0.01896 0.20147 -0.4211 -0.0075156 -0.27977 -0.19314 0.046204 0.19971 -0.30207 0.25735 0.68107 -0.19409 0.23984 0.22493 0.65224 -0.13561 -0.17383 -0.048209 -0.1186 0.0021588 -0.019525 0.11948 0.19346 -0.4082 -0.082966 0.16626 -0.10601 0.35861 0.16922 0.07259 -0.24803 -0.10024 -0.52491 -0.17745 -0.36647 0.2618 -0.012077 0.08319 -0.21528 0.41045 0.29136 0.30869 0.078864 0.32207 -0.041023 -0.1097 -0.092041 -0.12339 -0.16416 0.35382 -0.082774 0.33171 -0.24738 -0.048928 0.15746 0.18988 -0.026642 0.063315 -0.010673 0.34089 1.4106 0.13417 0.28191 -0.2594 0.055267 -0.052425 -0.25789 0.019127 -0.022084 0.32113 0.068818 0.51207 0.16478 -0.20194 0.29232 0.098575 0.013145 -0.10652 0.1351 -0.045332 0.20697 -0.48425 -0.44706 0.0033305 0.0029264 -0.10975 -0.23325 0.22442 -0.10503 0.12339 0.10978 0.048994 -0.25157 0.40319 0.35318 0.18651 -0.023622 -0.12734 0.11475 0.27359 -0.21866 0.015794 0.81754 -0.023792 -0.85469 -0.16203 0.18076 0.028014 -0.1434 0.0013139 -0.091735 -0.089704 0.11105 -0.16703 0.068377 -0.087388 -0.039789 0.014184 0.21187 0.28579 -0.28797 -0.058996 -0.032436 -0.0047009 -0.17052 -0.034741 -0.11489 0.075093 0.099526 0.048183 -0.073775 -0.41817 0.0041268 0.44414 -0.16062 0.14294 -2.2628 -0.027347 0.81311 0.77417 -0.25639 -0.11576 -0.11982 -0.21363 0.028429 0.27261 0.031026 0.096782 0.0067769 0.14082 -0.013064 -0.29686 -0.079913 0.195 0.031549 0.28506 -0.087461 0.0090611 -0.20989 0.053913\n"
     ]
    }
   ],
   "source": [
    "%%bash \n",
    "head -2 ./glove.6B.300d.txt"
   ]
  },
  {
   "cell_type": "code",
   "execution_count": 199,
   "metadata": {
    "collapsed": false
   },
   "outputs": [],
   "source": [
    "model = gensim.models.KeyedVectors.load_word2vec_format('./glove.6B.300d.txt', binary=False)"
   ]
  },
  {
   "cell_type": "markdown",
   "metadata": {},
   "source": [
    "## Keywords describing datasets\n",
    "\n",
    "A keywords.json file was produced from backend data harvested as part of populating the knowledge network http://kn.csiro.au"
   ]
  },
  {
   "cell_type": "code",
   "execution_count": 200,
   "metadata": {
    "collapsed": true
   },
   "outputs": [],
   "source": [
    "import json"
   ]
  },
  {
   "cell_type": "code",
   "execution_count": 201,
   "metadata": {
    "collapsed": false
   },
   "outputs": [],
   "source": [
    "with open('./keywords.json') as keywords_json_file:\n",
    "    raw_keywords = json.load(keywords_json_file)"
   ]
  },
  {
   "cell_type": "code",
   "execution_count": 128,
   "metadata": {
    "collapsed": false
   },
   "outputs": [],
   "source": [
    "keywords_dict = [keyword for keyword in raw_keywords if 'keywords' in keyword.keys() and keyword['keywords'] != None]"
   ]
  },
  {
   "cell_type": "code",
   "execution_count": 131,
   "metadata": {
    "collapsed": false,
    "scrolled": false
   },
   "outputs": [
    {
     "name": "stdout",
     "output_type": "stream",
     "text": [
      "{'_id': '59159e9b3dd97b0a4c165378', 'keywords': ['entomology', 'insects', 'spiders', 'fauna']}\n",
      "{'_id': '59159e9b3dd97b0a4c165379', 'keywords': ['plants']}\n",
      "{'_id': '59159e9b3dd97b0a4c16537b', 'keywords': ['microbial']}\n",
      "{'_id': '59159e9b3dd97b0a4c16537e', 'keywords': ['plants']}\n",
      "{'_id': '59159e9b3dd97b0a4c16537f', 'keywords': ['herbarium', 'herbaria', 'angiosperms', 'dicots', 'monocots', 'pteridophytes', 'mosses', 'liverworts', 'lichens', 'fungi', 'algae', 'plants']}\n",
      "{'_id': '59159e9b3dd97b0a4c165380', 'keywords': ['microbial']}\n",
      "{'_id': '59159e9b3dd97b0a4c165381', 'keywords': ['microbial']}\n",
      "{'_id': '59159e9b3dd97b0a4c165382', 'keywords': ['microbes']}\n",
      "{'_id': '59159e9b3dd97b0a4c165383', 'keywords': ['arachnids', 'spiders', 'myriapods', 'centipedes', 'millipedes', 'onychophorans', '\"velvet', 'worms\"', 'tardigrades', '\"water', 'bears\"', 'fauna']}\n",
      "{'_id': '59159e9b3dd97b0a4c165384', 'keywords': ['entomology', 'insects', 'hexapoda']}\n"
     ]
    }
   ],
   "source": [
    "for anItem in keywords_dict[0:10]:\n",
    "    print(anItem)"
   ]
  },
  {
   "cell_type": "markdown",
   "metadata": {},
   "source": [
    "## Keyword cleaning and considerations\n",
    "\n",
    "Keywords are flattened to a unique list. However there are a lot of keywords that aren't single words. These aren't handled currently. "
   ]
  },
  {
   "cell_type": "code",
   "execution_count": 132,
   "metadata": {
    "collapsed": false
   },
   "outputs": [],
   "source": [
    "flat_keywords = [keyword for keyword_item in keywords_dict for keyword in keyword_item['keywords']]"
   ]
  },
  {
   "cell_type": "code",
   "execution_count": 133,
   "metadata": {
    "collapsed": false
   },
   "outputs": [],
   "source": [
    "unique_keywords = list(set(flat_keywords))"
   ]
  },
  {
   "cell_type": "code",
   "execution_count": 105,
   "metadata": {
    "collapsed": false
   },
   "outputs": [
    {
     "data": {
      "text/plain": [
       "1912"
      ]
     },
     "execution_count": 105,
     "metadata": {},
     "output_type": "execute_result"
    }
   ],
   "source": [
    "len(unique_keywords)"
   ]
  },
  {
   "cell_type": "markdown",
   "metadata": {},
   "source": [
    "## Finding similar words\n",
    "\n",
    "Here we find the top 10 words similar to a keyword. Note that this isn't finding the most similar other keywords rather it is finding words from the original word to vec corpus (in this case wikipedia + gigawords), only a small number of which are exisiting keywords. Also note that not all keywords are in the corpus if a keyword isn't present an error is thrown."
   ]
  },
  {
   "cell_type": "code",
   "execution_count": 155,
   "metadata": {
    "collapsed": false
   },
   "outputs": [
    {
     "name": "stdout",
     "output_type": "stream",
     "text": [
      "Workspace\n",
      "Word not in corpus\n",
      "\n",
      "Ferrous iron index\n",
      "Word not in corpus\n",
      "\n",
      "risk assessment\n",
      "Word not in corpus\n",
      "\n",
      "pulsars, neutron stars, BPSR, HIPSR\n",
      "Word not in corpus\n",
      "\n",
      "Oenanthe pimpinelloides\n",
      "Word not in corpus\n",
      "\n",
      "sea\n",
      "[('ocean', 0.8422356247901917), ('waters', 0.8335513472557068), ('seas', 0.8311473727226257), ('mediterranean', 0.7880582213401794), ('coast', 0.7716078162193298), ('coastal', 0.7678077816963196), ('aegean', 0.7616022825241089), ('arctic', 0.7600924968719482), ('ships', 0.7546911239624023), ('ship', 0.7542240619659424)]\n",
      "\n",
      "Western Australia Coast South\n",
      "Word not in corpus\n",
      "\n",
      "ICT Centre\n",
      "Word not in corpus\n",
      "\n",
      "clams\n",
      "[('mussels', 0.8888778686523438), ('oysters', 0.8605103492736816), ('scallops', 0.835378110408783), ('clam', 0.8343192338943481), ('crabs', 0.8148018717765808), ('lobsters', 0.8023141622543335), ('shrimp', 0.7868390083312988), ('squid', 0.7804455757141113), ('prawns', 0.7790178060531616), ('shellfish', 0.7775545120239258)]\n",
      "\n"
     ]
    }
   ],
   "source": [
    "for keyword in unique_keywords[1:10]:\n",
    "    print(keyword)\n",
    "    try:\n",
    "        print(str(model.most_similar_cosmul(positive=keyword,topn=10)) + \"\\n\")\n",
    "    except:\n",
    "        print(\"Word not in corpus\" + \"\\n\")\n",
    "        continue"
   ]
  },
  {
   "cell_type": "markdown",
   "metadata": {},
   "source": [
    "## Finding only similar existing keywords\n",
    "\n",
    "In some use cases we might want to only want to find existing keywords similar to other keywords. This might help a user select a new keyword based on other similar keywords to an already selected keyword. The best way to do this might be to reset the word2vec model to use the keywords as a corpus and then \"copy\" the weights from an existing model (because we can't easily train specifically on the small keyword corpus). An alternative is to \"brute force\" this by build ordered dictionaries so that each keyword is associated with an list of all other keywords ordered by similarity. Not implemented yet but might begin like the following"
   ]
  },
  {
   "cell_type": "code",
   "execution_count": 207,
   "metadata": {
    "collapsed": false
   },
   "outputs": [
    {
     "name": "stdout",
     "output_type": "stream",
     "text": [
      "sea\n",
      "\n",
      "sea: 1.0\n",
      "clams: 0.224150595646\n",
      "entomology: -0.138087730563\n",
      "fiber: 0.110444760662\n",
      "ethanol: -0.0278519565875\n",
      "rumen: -0.0532214256698\n",
      "atlas: 0.0858158608241\n"
     ]
    }
   ],
   "source": [
    "print(unique_keywords[6] + '\\n')\n",
    "for keyword in unique_keywords[1:30]:\n",
    "    try:\n",
    "        print(keyword + ': ' + str(model.similarity(keyword, unique_keywords[6])))\n",
    "    except:\n",
    "        pass"
   ]
  },
  {
   "cell_type": "markdown",
   "metadata": {},
   "source": [
    "## What else might we be able to do with word2vec vectors and keywords\n",
    "\n",
    "One thing that might be possible is to look at how closely related a particular set of keywords attributed to a dataset  actually are. We can compare word vector distance ourselves and so can calculate average distance of keywords with each other. "
   ]
  },
  {
   "cell_type": "code",
   "execution_count": null,
   "metadata": {
    "collapsed": false
   },
   "outputs": [],
   "source": [
    "model.word_vec(unique_keywords[6])"
   ]
  },
  {
   "cell_type": "code",
   "execution_count": 211,
   "metadata": {
    "collapsed": false
   },
   "outputs": [
    {
     "name": "stderr",
     "output_type": "stream",
     "text": [
      "/opt/conda/lib/python3.5/site-packages/ipykernel/__main__.py:31: FutureWarning: comparison to `None` will result in an elementwise object comparison in the future.\n"
     ]
    },
    {
     "name": "stdout",
     "output_type": "stream",
     "text": [
      "(9.4812989864709234, [{'_id': '5915a6be3dd97b0a4c19fcfa', 'keywords': ['soil', 'agriculture', 'crops', 'pastures', 'carbon', 'sequestration', 'baseline', 'stocks', 'fractions', 'nitrogen', 'carbonate', 'particulate', 'humus', 'resistant', 'charcoal']}])\n",
      "\n",
      "(8.8938780725002289, [{'_id': '5915a6be3dd97b0a4c19fd45', 'keywords': ['invertebrates', 'insects', 'biosecurity', 'taxonomy', 'arthropods', 'systematic']}])\n",
      "\n",
      "(8.8470295563988071, [{'_id': '5915a6be3dd97b0a4c19fd04', 'keywords': ['temperature', 'salinity', 'depth', 'fluorescence', 'oxygen', 'PAR', 'ocean', 'phosphate', 'nitrate', 'ammonium', 'silicate', 'Australia, Western Australia coast', 'East Indian Ocean', 'Indian Ocean']}])\n",
      "\n",
      "(8.8263469372155523, [{'_id': '59159e9b3dd97b0a4c165387', 'keywords': ['malacology', 'molluscs', 'mollusc', 'chitons', 'clams', 'mussels', 'snails', 'nudibranchs', 'sea', 'slugs', 'tusk', 'shells', 'octopus', 'squid', 'fauna']}])\n",
      "\n",
      "(8.7827231287956238, [{'_id': '5915a6be3dd97b0a4c19fcc8', 'keywords': ['permanent plot', 'Wet Tropics', 'fire', 'soil', 'rainforest', 'cyclone', 'mortality', 'recruitment', 'growth rate']}])\n",
      "\n",
      "(8.776972667030666, [{'_id': '5915a6be3dd97b0a4c19fd3f', 'keywords': ['taxonomy', 'systematic', 'evolution', 'phylogeny', 'nomenclature', 'biogeography', 'phylogeography', 'herbarium', 'tropical', 'tropics', 'identification keys']}])\n",
      "\n",
      "(8.6312599832361396, [{'_id': '5915a6bd3dd97b0a4c19f922', 'keywords': ['Tasmania', 'plant', 'trait', 'functional', 'species', 'leaf', 'seed', 'height']}])\n",
      "\n",
      "(8.5870464262755029, [{'_id': '5915a6bd3dd97b0a4c19f87d', 'keywords': ['pollen', 'anther', 'pollination', 'almond', 'prunus', 'honeybee', 'orchard', 'nuts', 'fruit', 'flower']}])\n",
      "\n",
      "(8.5695710895069421, [{'_id': '5915a6be3dd97b0a4c19fd35', 'keywords': ['parasites', 'parasitology', 'Acanthocephala', 'thorny-headed worms', 'Acari', 'ticks', 'mites', 'Anoplura', 'sucking lice', 'bacteria', 'Cestoda', 'tapeworms', 'Digenea', 'trematodes', 'Insecta', 'insects', 'Monogenea', 'trematodes', 'Hippoboscida', 'keds', 'Mallophaga', 'lice', 'Nematoda', 'roundworms', 'Pentastomida', 'tongue worms', 'Protozoa', 'Siphonaptera', 'fleas', 'collection', 'birds', 'reptiles', 'amphibians', 'mammals', 'fauna', 'wildlife', 'systematics', 'phylogenetics', 'taxonomy', 'biogeography', 'pathology', 'phylogeography']}])\n",
      "\n",
      "(8.4742144968198687, [{'_id': '5915a6be3dd97b0a4c19fd43', 'keywords': ['terrestrial vertebrate', 'birds', 'mammals', 'eggs', 'amphibians', 'reptiles', 'fauna', 'calls', 'wildlife', 'population genetics', 'biogeography', 'systematics', 'taxonomy', 'phylogenetics', 'genomics', 'phylogeography', 'evolutionary genetics']}])\n",
      "\n"
     ]
    }
   ],
   "source": [
    "import numpy, itertools, collections\n",
    "\n",
    "average_keyword_dist_record = {}\n",
    "\n",
    "def get_word_vec(word, word_vec):\n",
    "    a_vec = None\n",
    "    if word in word_vec.keys():\n",
    "        a_vec = word_vec[word]\n",
    "    else:\n",
    "        try:\n",
    "            a_vec = model.word_vec(word)\n",
    "        except:\n",
    "            a_vec = None\n",
    "        word_vec[word] = a_vec\n",
    "    return a_vec\n",
    "\n",
    "for record in keywords_dict:    \n",
    "    metadata_record_keywords = record['keywords']\n",
    "    total_distance = 0\n",
    "    count = 1\n",
    "    word_vec = {}\n",
    "    sets = [frozenset(pair) for pair in itertools.product(metadata_record_keywords, metadata_record_keywords)]\n",
    "    unique_pairs = set(sets)\n",
    "    for pair in unique_pairs:\n",
    "        pair = list(pair)\n",
    "        if len(pair) < 2:\n",
    "            continue\n",
    "        else:\n",
    "            a_vec = get_word_vec(pair[0], word_vec)\n",
    "            b_vec = get_word_vec(pair[1], word_vec)\n",
    "            if a_vec != None and b_vec != None:\n",
    "                distance = numpy.linalg.norm(a_vec-b_vec)\n",
    "            else:\n",
    "                continue\n",
    "            count += 1\n",
    "            total_distance += distance\n",
    "    average_distance = total_distance / count\n",
    "    if average_distance in average_keyword_dist_record.keys():\n",
    "        average_keyword_dist_record[average_distance].append(record)\n",
    "    else:\n",
    "        average_keyword_dist_record[average_distance] = [record]\n",
    "\n",
    "# first 10 results to keep notebook output smallish\n",
    "for result in list(collections.OrderedDict(sorted(average_keyword_dist_record.items(), reverse=True)).items())[0:10]:\n",
    "    print(str(result) + '\\n')"
   ]
  },
  {
   "cell_type": "markdown",
   "metadata": {},
   "source": [
    "## Can we assess good keyword tagging this way? Could we score keyword descriptiveness as users enter them? \n",
    "\n",
    "(2.9496593475341797, [{'_id': '59159e9b3dd97b0a4c1653bb', 'keywords': ['microbial', 'microbes']}])\n",
    "\n",
    "vs \n",
    "\n",
    "(8.1640734042017922, [{'_id': '59159e9b3dd97b0a4c165439', 'keywords': ['herbarium', 'herbaria', 'plants', 'angiosperms', 'dicots', 'monocots', 'gymnosperms', 'pteridophytes', 'mosses', 'liverworts', 'lichens', 'fungi', 'algae', 'fossils', 'wood', 'microbes']}])\n",
    "\n",
    "\n"
   ]
  },
  {
   "cell_type": "code",
   "execution_count": null,
   "metadata": {
    "collapsed": true
   },
   "outputs": [],
   "source": []
  }
 ],
 "metadata": {
  "kernelspec": {
   "display_name": "Python 3",
   "language": "python",
   "name": "python3"
  },
  "language_info": {
   "codemirror_mode": {
    "name": "ipython",
    "version": 3
   },
   "file_extension": ".py",
   "mimetype": "text/x-python",
   "name": "python",
   "nbconvert_exporter": "python",
   "pygments_lexer": "ipython3",
   "version": "3.5.2"
  }
 },
 "nbformat": 4,
 "nbformat_minor": 2
}
